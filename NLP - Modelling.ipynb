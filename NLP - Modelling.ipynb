{
 "cells": [
  {
   "cell_type": "code",
   "execution_count": 1,
   "id": "84de890a",
   "metadata": {},
   "outputs": [
    {
     "name": "stdout",
     "output_type": "stream",
     "text": [
      "Requirement already satisfied: imblearn in c:\\users\\shriprada\\anaconda3\\lib\\site-packages (0.0)\n",
      "Requirement already satisfied: imbalanced-learn in c:\\users\\shriprada\\anaconda3\\lib\\site-packages (from imblearn) (0.10.1)\n",
      "Requirement already satisfied: scipy>=1.3.2 in c:\\users\\shriprada\\anaconda3\\lib\\site-packages (from imbalanced-learn->imblearn) (1.7.3)\n",
      "Requirement already satisfied: scikit-learn>=1.0.2 in c:\\users\\shriprada\\anaconda3\\lib\\site-packages (from imbalanced-learn->imblearn) (1.0.2)\n",
      "Requirement already satisfied: threadpoolctl>=2.0.0 in c:\\users\\shriprada\\anaconda3\\lib\\site-packages (from imbalanced-learn->imblearn) (2.2.0)\n",
      "Requirement already satisfied: joblib>=1.1.1 in c:\\users\\shriprada\\anaconda3\\lib\\site-packages (from imbalanced-learn->imblearn) (1.2.0)\n",
      "Requirement already satisfied: numpy>=1.17.3 in c:\\users\\shriprada\\anaconda3\\lib\\site-packages (from imbalanced-learn->imblearn) (1.21.5)\n"
     ]
    }
   ],
   "source": [
    "import pandas as pd\n",
    "import numpy as np\n",
    "import matplotlib.pyplot as plt\n",
    "\n",
    "from sklearn.feature_extraction.text import TfidfVectorizer\n",
    "\n",
    "!pip install imblearn\n",
    "from imblearn.over_sampling import RandomOverSampler\n",
    "from imblearn.over_sampling import SMOTE\n",
    "from imblearn.under_sampling import RandomUnderSampler"
   ]
  },
  {
   "cell_type": "code",
   "execution_count": 2,
   "id": "e3a7d950",
   "metadata": {},
   "outputs": [],
   "source": [
    "from sklearn.model_selection import train_test_split, KFold, StratifiedKFold\n",
    "from sklearn.model_selection import GridSearchCV\n",
    "\n",
    "from sklearn.svm import SVC\n",
    "from sklearn.metrics import accuracy_score, confusion_matrix\n",
    "\n",
    "from sklearn.ensemble import RandomForestClassifier\n",
    "from sklearn.linear_model import LogisticRegression\n",
    "from sklearn.neighbors import KNeighborsClassifier\n",
    "from sklearn.naive_bayes import MultinomialNB\n",
    "\n",
    "from sklearn import metrics\n",
    "from sklearn.metrics import accuracy_score, classification_report, roc_auc_score, f1_score\n",
    "from sklearn.model_selection import cross_val_score\n",
    "from sklearn.metrics import plot_confusion_matrix, classification_report"
   ]
  },
  {
   "cell_type": "code",
   "execution_count": 5,
   "id": "8ef22855",
   "metadata": {},
   "outputs": [],
   "source": [
    "df = pd.read_csv(\"F:\\\\Project\\\\NLP\\\\review.csv\")\n",
    "df = df.drop([\"Unnamed: 0\"], axis = 1)"
   ]
  },
  {
   "cell_type": "code",
   "execution_count": 6,
   "id": "46edbb78",
   "metadata": {},
   "outputs": [],
   "source": [
    "tfidf = TfidfVectorizer(max_features=3000,\n",
    "                       ngram_range=(1,3))\n",
    "# TFIDF for X-train\n",
    "review_tfidf= tfidf.fit_transform(df['lemma_str'])\n"
   ]
  },
  {
   "cell_type": "code",
   "execution_count": 7,
   "id": "f442c933",
   "metadata": {},
   "outputs": [],
   "source": [
    "X = review_tfidf\n",
    "y = df['Affin_sentiment']\n",
    "\n",
    "stregegy = 0.8\n",
    "\n",
    "# initializing of SMOTEN Sampling\n",
    "over = SMOTE(sampling_strategy= stregegy,random_state=7)"
   ]
  },
  {
   "cell_type": "code",
   "execution_count": 8,
   "id": "520839f2",
   "metadata": {},
   "outputs": [],
   "source": [
    "X_over, y_over = over.fit_resample(X, y)"
   ]
  },
  {
   "cell_type": "markdown",
   "id": "e7bd648b",
   "metadata": {},
   "source": [
    "## Split the Data into Train and Test"
   ]
  },
  {
   "cell_type": "code",
   "execution_count": 9,
   "id": "af97e70c",
   "metadata": {},
   "outputs": [],
   "source": [
    "X_train,X_test,y_train,y_test=train_test_split(X_over, y_over,random_state=7,test_size=0.20,stratify=y_over)"
   ]
  },
  {
   "cell_type": "code",
   "execution_count": 10,
   "id": "806955cb",
   "metadata": {},
   "outputs": [
    {
     "name": "stdout",
     "output_type": "stream",
     "text": [
      "X_train = (27388, 3000)\n",
      "X_test = (6848, 3000)\n",
      "y_train = (27388,)\n",
      "y_test = (6848,)\n"
     ]
    }
   ],
   "source": [
    "print(\"X_train = {}\".format(X_train.shape))\n",
    "print(\"X_test = {}\".format(X_test.shape))\n",
    "print(\"y_train = {}\".format(y_train.shape))\n",
    "print(\"y_test = {}\".format(y_test.shape))"
   ]
  },
  {
   "cell_type": "markdown",
   "id": "a83bbbb0",
   "metadata": {},
   "source": [
    "## SVC"
   ]
  },
  {
   "cell_type": "code",
   "execution_count": 11,
   "id": "37b55044",
   "metadata": {},
   "outputs": [
    {
     "name": "stdout",
     "output_type": "stream",
     "text": [
      "Model Score: 0.994\n"
     ]
    }
   ],
   "source": [
    "clf = SVC()\n",
    "#fit\n",
    "clf.fit(X_train,y_train)\n",
    "#model score in 3 digit after decimal\n",
    "print('Model Score: %.3f' % clf.score(X_test,y_test))"
   ]
  },
  {
   "cell_type": "code",
   "execution_count": 12,
   "id": "f090a897",
   "metadata": {},
   "outputs": [
    {
     "name": "stdout",
     "output_type": "stream",
     "text": [
      "Accuracy : 0.993428738317757\n"
     ]
    },
    {
     "data": {
      "text/plain": [
       "array([[3042,    2],\n",
       "       [  43, 3761]], dtype=int64)"
      ]
     },
     "execution_count": 12,
     "metadata": {},
     "output_type": "execute_result"
    }
   ],
   "source": [
    "poly_clf= SVC(kernel='poly', C= 10, degree=2, gamma=10)\n",
    "poly_clf.fit(X_train, y_train)\n",
    "\n",
    "y_pred= poly_clf.predict(X_test)\n",
    "acc= accuracy_score(y_test, y_pred)\n",
    "print('Accuracy :', acc)\n",
    "confusion_matrix(y_test, y_pred)"
   ]
  },
  {
   "cell_type": "code",
   "execution_count": 34,
   "id": "ff855c79",
   "metadata": {},
   "outputs": [
    {
     "name": "stdout",
     "output_type": "stream",
     "text": [
      "Accuracy for Train set 0.9998539506353147\n",
      "Accuracy for Test set 0.9944509345794392\n",
      "Fi Score 0.9998685680488926\n",
      "              precision    recall  f1-score   support\n",
      "\n",
      "           0       0.99      0.99      0.99      3044\n",
      "           1       1.00      0.99      1.00      3804\n",
      "\n",
      "    accuracy                           0.99      6848\n",
      "   macro avg       0.99      0.99      0.99      6848\n",
      "weighted avg       0.99      0.99      0.99      6848\n",
      "\n"
     ]
    },
    {
     "name": "stderr",
     "output_type": "stream",
     "text": [
      "C:\\Users\\Shriprada\\anaconda3\\lib\\site-packages\\sklearn\\utils\\deprecation.py:87: FutureWarning: Function plot_confusion_matrix is deprecated; Function `plot_confusion_matrix` is deprecated in 1.0 and will be removed in 1.2. Use one of the class methods: ConfusionMatrixDisplay.from_predictions or ConfusionMatrixDisplay.from_estimator.\n",
      "  warnings.warn(msg, category=FutureWarning)\n"
     ]
    },
    {
     "data": {
      "image/png": "[encoded data removed]",
      "text/plain": [
       "<Figure size 432x288 with 2 Axes>"
      ]
     },
     "metadata": {
      "needs_background": "light"
     },
     "output_type": "display_data"
    }
   ],
   "source": [
    "model_metric(X_train, X_test, y_train, y_test, clf,\n",
    "                'SVC')"
   ]
  },
  {
   "cell_type": "code",
   "execution_count": 39,
   "id": "fc8dc227",
   "metadata": {},
   "outputs": [],
   "source": [
    "import pickle\n",
    "filename = 'finalized_model.sav'\n",
    "pickle.dump(poly_clf, open(filename, 'wb'))"
   ]
  },
  {
   "cell_type": "code",
   "execution_count": 40,
   "id": "22ef53cd",
   "metadata": {},
   "outputs": [
    {
     "name": "stdout",
     "output_type": "stream",
     "text": [
      "0.993428738317757\n"
     ]
    }
   ],
   "source": [
    "loaded_model = pickle.load(open(filename, 'rb'))\n",
    "result = loaded_model.score(X_test, y_test)\n",
    "print(result)"
   ]
  },
  {
   "cell_type": "markdown",
   "id": "03042700",
   "metadata": {},
   "source": [
    "## Naive Bayes"
   ]
  },
  {
   "cell_type": "code",
   "execution_count": 13,
   "id": "0875c1ad",
   "metadata": {},
   "outputs": [],
   "source": [
    "from sklearn import metrics\n",
    "\n",
    "\n",
    "M_model = MultinomialNB()\n",
    "train_pred_multi = M_model.fit(X_train, y_train).predict(X_train)\n",
    "test_pred_multi = M_model.fit(X_test, y_test).predict(X_test)"
   ]
  },
  {
   "cell_type": "code",
   "execution_count": 14,
   "id": "93ff4353",
   "metadata": {},
   "outputs": [
    {
     "data": {
      "text/plain": [
       "0.9263546078574558"
      ]
     },
     "execution_count": 14,
     "metadata": {},
     "output_type": "execute_result"
    }
   ],
   "source": [
    "train_acc_multi = np.mean(train_pred_multi == y_train)\n",
    "train_acc_multi"
   ]
  },
  {
   "cell_type": "code",
   "execution_count": 15,
   "id": "835baefe",
   "metadata": {},
   "outputs": [
    {
     "data": {
      "text/plain": [
       "0.920998831775701"
      ]
     },
     "execution_count": 15,
     "metadata": {},
     "output_type": "execute_result"
    }
   ],
   "source": [
    "test_acc_multi = np.mean(test_pred_multi== y_test)\n",
    "test_acc_multi"
   ]
  },
  {
   "cell_type": "code",
   "execution_count": 35,
   "id": "38641148",
   "metadata": {},
   "outputs": [
    {
     "name": "stdout",
     "output_type": "stream",
     "text": [
      "Accuracy for Train set 0.9219731269168979\n",
      "Accuracy for Test set 0.920998831775701\n",
      "Fi Score 0.927845494141878\n",
      "              precision    recall  f1-score   support\n",
      "\n",
      "           0       0.89      0.94      0.91      3044\n",
      "           1       0.95      0.91      0.93      3804\n",
      "\n",
      "    accuracy                           0.92      6848\n",
      "   macro avg       0.92      0.92      0.92      6848\n",
      "weighted avg       0.92      0.92      0.92      6848\n",
      "\n"
     ]
    },
    {
     "name": "stderr",
     "output_type": "stream",
     "text": [
      "C:\\Users\\Shriprada\\anaconda3\\lib\\site-packages\\sklearn\\utils\\deprecation.py:87: FutureWarning: Function plot_confusion_matrix is deprecated; Function `plot_confusion_matrix` is deprecated in 1.0 and will be removed in 1.2. Use one of the class methods: ConfusionMatrixDisplay.from_predictions or ConfusionMatrixDisplay.from_estimator.\n",
      "  warnings.warn(msg, category=FutureWarning)\n"
     ]
    },
    {
     "data": {
      "image/png": "[encoded data removed]",
      "text/plain": [
       "<Figure size 432x288 with 2 Axes>"
      ]
     },
     "metadata": {
      "needs_background": "light"
     },
     "output_type": "display_data"
    }
   ],
   "source": [
    "model_metric(X_train, X_test, y_train, y_test, M_model,\n",
    "                'Naive Bayes')"
   ]
  },
  {
   "cell_type": "markdown",
   "id": "4a943702",
   "metadata": {},
   "source": [
    "## Logistic Regression"
   ]
  },
  {
   "cell_type": "code",
   "execution_count": 16,
   "id": "f8f3f6d3",
   "metadata": {},
   "outputs": [],
   "source": [
    "def model_metric(X_train, X_test, y_train, y_test, model, name):\n",
    "\n",
    "    # predicted for X_train and X_test\n",
    "    predict_train = model.predict(X_train)\n",
    "    predict_test = model.predict(X_test)\n",
    "\n",
    "    # Accuracy\n",
    "    accuracy_train = model.score(X_train, y_train)\n",
    "    accuracy_test = model.score(X_test, y_test)\n",
    "\n",
    "    # F1score\n",
    "    f1_score = metrics.f1_score(y_train, predict_train)\n",
    "\n",
    "    print('Accuracy for Train set {}'.format(accuracy_train))\n",
    "    print('Accuracy for Test set {}'.format(accuracy_test))\n",
    "    print('Fi Score {}'.format(f1_score))\n",
    "    \n",
    "    print(classification_report(y_test, predict_test))\n",
    "\n",
    "    plot_confusion_matrix(estimator=model,\n",
    "                          X=X_test,\n",
    "                          y_true=y_test,\n",
    "                          cmap='Blues')\n",
    "    plt.grid(False)\n",
    "    plt.title('{} - Confusion Matrix on Test set'.format(name))"
   ]
  },
  {
   "cell_type": "code",
   "execution_count": 17,
   "id": "312061e7",
   "metadata": {
    "scrolled": true
   },
   "outputs": [
    {
     "name": "stdout",
     "output_type": "stream",
     "text": [
      "Accuracy for Train set 0.9914195998247408\n",
      "Accuracy for Test set 0.9799941588785047\n",
      "Fi Score 0.9922203462773529\n",
      "              precision    recall  f1-score   support\n",
      "\n",
      "           0       0.96      1.00      0.98      3044\n",
      "           1       1.00      0.97      0.98      3804\n",
      "\n",
      "    accuracy                           0.98      6848\n",
      "   macro avg       0.98      0.98      0.98      6848\n",
      "weighted avg       0.98      0.98      0.98      6848\n",
      "\n"
     ]
    },
    {
     "name": "stderr",
     "output_type": "stream",
     "text": [
      "C:\\Users\\Shriprada\\anaconda3\\lib\\site-packages\\sklearn\\utils\\deprecation.py:87: FutureWarning: Function plot_confusion_matrix is deprecated; Function `plot_confusion_matrix` is deprecated in 1.0 and will be removed in 1.2. Use one of the class methods: ConfusionMatrixDisplay.from_predictions or ConfusionMatrixDisplay.from_estimator.\n",
      "  warnings.warn(msg, category=FutureWarning)\n"
     ]
    },
    {
     "data": {
      "image/png": "[encoded data removed]",
      "text/plain": [
       "<Figure size 432x288 with 2 Axes>"
      ]
     },
     "metadata": {
      "needs_background": "light"
     },
     "output_type": "display_data"
    }
   ],
   "source": [
    "name = 'Logistic Regression'\n",
    "model_lr = LogisticRegression(C=5, penalty='l2', random_state=7)\n",
    "model_lr.fit(X_train, y_train)\n",
    "\n",
    "model_metric(X_train, X_test, y_train, y_test, model_lr,\n",
    "                'Logistic Regression')"
   ]
  },
  {
   "cell_type": "markdown",
   "id": "9ab8a155",
   "metadata": {},
   "source": [
    "## Bernoulli"
   ]
  },
  {
   "cell_type": "code",
   "execution_count": 20,
   "id": "d6bb5f63",
   "metadata": {},
   "outputs": [
    {
     "name": "stdout",
     "output_type": "stream",
     "text": [
      "Model Score: 0.839\n"
     ]
    }
   ],
   "source": [
    "from sklearn.naive_bayes import BernoulliNB\n",
    "BNBclf = BernoulliNB()\n",
    "BNBclf.fit(X_train, y_train)\n",
    "\n",
    "print('Model Score: %.3f' % BNBclf.score(X_test,y_test))"
   ]
  },
  {
   "cell_type": "code",
   "execution_count": 36,
   "id": "9f54d90c",
   "metadata": {},
   "outputs": [
    {
     "name": "stdout",
     "output_type": "stream",
     "text": [
      "Accuracy for Train set 0.8381407915875566\n",
      "Accuracy for Test set 0.8387850467289719\n",
      "Fi Score 0.8613777791675786\n",
      "              precision    recall  f1-score   support\n",
      "\n",
      "           0       0.86      0.76      0.81      3044\n",
      "           1       0.82      0.90      0.86      3804\n",
      "\n",
      "    accuracy                           0.84      6848\n",
      "   macro avg       0.84      0.83      0.83      6848\n",
      "weighted avg       0.84      0.84      0.84      6848\n",
      "\n"
     ]
    },
    {
     "name": "stderr",
     "output_type": "stream",
     "text": [
      "C:\\Users\\Shriprada\\anaconda3\\lib\\site-packages\\sklearn\\utils\\deprecation.py:87: FutureWarning: Function plot_confusion_matrix is deprecated; Function `plot_confusion_matrix` is deprecated in 1.0 and will be removed in 1.2. Use one of the class methods: ConfusionMatrixDisplay.from_predictions or ConfusionMatrixDisplay.from_estimator.\n",
      "  warnings.warn(msg, category=FutureWarning)\n"
     ]
    },
    {
     "data": {
      "image/png": "[encoded data removed]",
      "text/plain": [
       "<Figure size 432x288 with 2 Axes>"
      ]
     },
     "metadata": {
      "needs_background": "light"
     },
     "output_type": "display_data"
    }
   ],
   "source": [
    "model_metric(X_train, X_test, y_train, y_test, BNBclf,\n",
    "                'Bernoulli')"
   ]
  },
  {
   "cell_type": "markdown",
   "id": "0b668001",
   "metadata": {},
   "source": [
    "## Multinomial"
   ]
  },
  {
   "cell_type": "code",
   "execution_count": 29,
   "id": "67992b41",
   "metadata": {},
   "outputs": [
    {
     "name": "stdout",
     "output_type": "stream",
     "text": [
      "Model Score: 0.918\n"
     ]
    }
   ],
   "source": [
    "from sklearn.naive_bayes import MultinomialNB\n",
    "\n",
    "mnb = MultinomialNB()\n",
    "mnb.fit(X_train, y_train)\n",
    "print('Model Score: %.3f' % mnb.score(X_test,y_test))"
   ]
  },
  {
   "cell_type": "code",
   "execution_count": 37,
   "id": "6632cb4b",
   "metadata": {},
   "outputs": [
    {
     "name": "stdout",
     "output_type": "stream",
     "text": [
      "Accuracy for Train set 0.9263546078574558\n",
      "Accuracy for Test set 0.9177862149532711\n",
      "Fi Score 0.9326071703030505\n",
      "              precision    recall  f1-score   support\n",
      "\n",
      "           0       0.89      0.93      0.91      3044\n",
      "           1       0.94      0.91      0.92      3804\n",
      "\n",
      "    accuracy                           0.92      6848\n",
      "   macro avg       0.92      0.92      0.92      6848\n",
      "weighted avg       0.92      0.92      0.92      6848\n",
      "\n"
     ]
    },
    {
     "name": "stderr",
     "output_type": "stream",
     "text": [
      "C:\\Users\\Shriprada\\anaconda3\\lib\\site-packages\\sklearn\\utils\\deprecation.py:87: FutureWarning: Function plot_confusion_matrix is deprecated; Function `plot_confusion_matrix` is deprecated in 1.0 and will be removed in 1.2. Use one of the class methods: ConfusionMatrixDisplay.from_predictions or ConfusionMatrixDisplay.from_estimator.\n",
      "  warnings.warn(msg, category=FutureWarning)\n"
     ]
    },
    {
     "data": {
      "image/png": "[encoded data removed]",
      "text/plain": [
       "<Figure size 432x288 with 2 Axes>"
      ]
     },
     "metadata": {
      "needs_background": "light"
     },
     "output_type": "display_data"
    }
   ],
   "source": [
    "model_metric(X_train, X_test, y_train, y_test, mnb,\n",
    "                'Multinomial')"
   ]
  },
  {
   "cell_type": "code",
   "execution_count": null,
   "id": "687c6c73",
   "metadata": {},
   "outputs": [],
   "source": []
  }
 ],
 "metadata": {
  "kernelspec": {
   "display_name": "Python 3 (ipykernel)",
   "language": "python",
   "name": "python3"
  },
  "language_info": {
   "codemirror_mode": {
    "name": "ipython",
    "version": 3
   },
   "file_extension": ".py",
   "mimetype": "text/x-python",
   "name": "python",
   "nbconvert_exporter": "python",
   "pygments_lexer": "ipython3",
   "version": "3.9.12"
  }
 },
 "nbformat": 4,
 "nbformat_minor": 5
}
